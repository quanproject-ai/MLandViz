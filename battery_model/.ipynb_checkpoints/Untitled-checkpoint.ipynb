{
 "cells": [
  {
   "cell_type": "code",
   "execution_count": 3,
   "id": "2fb5ef94-96d4-4872-a5f4-4491e934f89a",
   "metadata": {},
   "outputs": [],
   "source": [
    "import model_v2 as ml"
   ]
  },
  {
   "cell_type": "code",
   "execution_count": null,
   "id": "5083cc91-274b-4a1b-8923-660f157826b3",
   "metadata": {},
   "outputs": [],
   "source": [
    "ml.apply_multiple_model(\n",
    "    algorithm=[\n",
    "        LassoLarsCV(),\n",
    "        GaussianNB(),\n",
    "        DecisionTreeRegressor(),\n",
    "        ExtraTreeRegressor(),\n",
    "        KNeighborsRegressor(),\n",
    "        SGDRegressor(),\n",
    "        # LogisticRegression(),\n",
    "        # RandomForestRegressor(),\n",
    "        # AdaBoostRegressor(),\n",
    "        # GradientBoostingRegressor(),\n",
    "        # BaggingRegressor(),\n",
    "    ],\n",
    "    test_size=0.4,\n",
    ")\n",
    "print(apply_multiple_model(\n",
    "    algorithm=[\n",
    "        LassoLarsCV(),\n",
    "        GaussianNB(),\n",
    "        DecisionTreeRegressor(),\n",
    "        ExtraTreeRegressor(),\n",
    "        KNeighborsRegressor(),\n",
    "        SGDRegressor(),\n",
    "        # LogisticRegression(),\n",
    "        # RandomForestRegressor(),\n",
    "        # AdaBoostRegressor(),\n",
    "        # GradientBoostingRegressor(),\n",
    "        # BaggingRegressor(),\n",
    "    ],\n",
    "    test_size=0.2,\n",
    ")\n",
    ")\n",
    "# voting_regressors(x=feature_df, y=target)"
   ]
  }
 ],
 "metadata": {
  "kernelspec": {
   "display_name": "Python 3 (ipykernel)",
   "language": "python",
   "name": "python3"
  },
  "language_info": {
   "codemirror_mode": {
    "name": "ipython",
    "version": 3
   },
   "file_extension": ".py",
   "mimetype": "text/x-python",
   "name": "python",
   "nbconvert_exporter": "python",
   "pygments_lexer": "ipython3",
   "version": "3.12.4"
  }
 },
 "nbformat": 4,
 "nbformat_minor": 5
}
